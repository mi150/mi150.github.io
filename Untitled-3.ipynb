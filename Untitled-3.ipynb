{
 "cells": [
  {
   "cell_type": "code",
   "execution_count": null,
   "metadata": {},
   "outputs": [],
   "source": [
    "import numpy as np\n",
    "import pandas as pd\n",
    "import torch\n",
    "from torch import nn, optim\n",
    "import matplotlib.pyplot as plt\n",
    "import matplotlib.image as mpimg\n",
    "import d2l\n",
    "from sklearn.metrics import confusion_matrix\n",
    "\n",
    "import os\n",
    "os.environ[\"CUDA_VISIBLE_DEVICES\"] = \"0\"\n"
   ]
  },
  {
   "cell_type": "code",
   "execution_count": null,
   "metadata": {},
   "outputs": [],
   "source": [
    "torch.manual_seed(2023)"
   ]
  },
  {
   "cell_type": "code",
   "execution_count": null,
   "metadata": {},
   "outputs": [],
   "source": [
    "data=pd.read_csv(r'C:\\Users\\Pinea\\Desktop\\data\\data.csv',header=None)\n",
    "data"
   ]
  },
  {
   "cell_type": "code",
   "execution_count": null,
   "metadata": {},
   "outputs": [],
   "source": [
    "from torch.utils.data import Dataset, DataLoader\n",
    "\n",
    "class dataset():\n",
    "    def __init__(self,data):\n",
    "        self.data=data\n",
    "        self.action=data.iloc[:,0]\n",
    "        self.state=data.iloc[:,1:]*10000000\n",
    "        self.action = torch.tensor(self.action.values)\n",
    "        self.action = self.action.reshape(-1,1)\n",
    "        self.state = torch.tensor(self.state.values, dtype=torch.float32)\n",
    "        self.state = self.state.reshape(-1,100)\n",
    "        self.test_data = self.state + self.state*torch.normal(0,0.001,size=self.state.shape)\n",
    "        self.test_label = self.action\n",
    "        self.state_normal=self.state/self.state.max()\n",
    "        self.test_data_normal=self.test_data/self.test_data.max()\n",
    "    def __create_tensor__(self):\n",
    "        self.action=torch.tensor(self.action.values,dtype=torch.float32)\n",
    "        self.state=torch.tensor(self.state.values,dtype=torch.float32)\n",
    "    def __normalize__(self):\n",
    "        self.state_normal=self.state/self.state.max()\n",
    "        self.test_data_normal=self.test_data/self.test_data.max()\n",
    "    def __get_data__(self):\n",
    "        self.__create_tensor()\n",
    "        self.__noemalize()\n",
    "    def _visualisation_(self):\n",
    "        self.__vis_data_point_per_category()\n",
    "    def __vis_data_point_per_category(self):\n",
    "        activity_count = torch.unique(self.action.long(),return_counts=True)\n",
    "        mean= torch.mean(activity_count[1].float())\n",
    "        plt.rcParams['figure.figsize'] = (10.0, 8.0)\n",
    "        plt.bar([\"A\",\"B\",\"C\"],activity_count[1])\n",
    "        plt.axhline(y=mean, color='r', linestyle='-')\n",
    "        plt.title(\"Data points per category\")\n",
    "        plt.legend()\n",
    "        plt.show()"
   ]
  },
  {
   "cell_type": "code",
   "execution_count": null,
   "metadata": {},
   "outputs": [],
   "source": [
    "data_set=dataset(data)"
   ]
  },
  {
   "cell_type": "code",
   "execution_count": null,
   "metadata": {},
   "outputs": [],
   "source": [
    "data_set.test_data_normal"
   ]
  },
  {
   "cell_type": "code",
   "execution_count": null,
   "metadata": {},
   "outputs": [],
   "source": [
    "# Define 1DCNN neural network model\n",
    "#class Net(nn.Module):\n",
    "#    def __init__(self):\n",
    "#        super(Net, self).__init__()\n",
    "#        self.conv1 = nn.Conv1d(1, 16, kernel_size=2, stride=1, padding=1)\n",
    "#        self.bn1 = nn.BatchNorm1d(16)\n",
    "#        self.relu = nn.LeakyReLU()\n",
    "#        self.conv2 = nn.Conv1d(16, 32, kernel_size=2, stride=1, padding=1)\n",
    "#        self.bn2 = nn.BatchNorm1d(32)\n",
    "#        self.relu = nn.LeakyReLU()\n",
    "#        self.pool = nn.MaxPool1d(kernel_size=2, stride=2)\n",
    "#        self.fc1 = nn.Linear(50 * , 512)\n",
    "#        self.fc2 = nn.Linear(512, 256)\n",
    "#        self.fc3 = nn.Linear(256, 128)\n",
    "#        self.fc4 = nn.Linear(128, 3)\n",
    "#\n",
    "#    def forward(self, x):\n",
    "#        x = self.conv1(x)\n",
    "#        x = self.bn1(x)\n",
    "#        x = self.relu(x)\n",
    "#        x = self.conv2(x)\n",
    "#        x = self.bn2(x)\n",
    "#        x = self.relu(x)\n",
    "#        x = self.pool(x)\n",
    "#        x = x.view(-1, 50 * 16)\n",
    "#        x = self.fc1(x)\n",
    "#        x = self.relu(x)\n",
    "#        x = self.fc2(x)\n",
    "#        x = self.relu(x)\n",
    "#        x = self.fc3(x)\n",
    "#        x = self.relu(x)\n",
    "#        x = self.fc4(x)\n",
    "#        x = self.relu(x)\n",
    "#        return x\n",
    "#    def initialize(self):\n",
    "#        for m in self.modules():\n",
    "#            if isinstance(m, nn.Linear):\n",
    "#                nn.init.normal_(m.weight.data)\n"
   ]
  },
  {
   "cell_type": "code",
   "execution_count": null,
   "metadata": {},
   "outputs": [],
   "source": [
    "class Net_v1(nn.Module):\n",
    "    def __init__(self):\n",
    "        super(Net_v1,self).__init__()\n",
    "        self.net = nn.Sequential(nn.Conv1d(1, 16, kernel_size=2, padding=1),\n",
    "                                 nn.ReLU(),\n",
    "                                 nn.MaxPool1d(kernel_size=2),\n",
    "                                 nn.Conv1d(16, 32, kernel_size=2, padding=1),\n",
    "                                 nn.ReLU(),\n",
    "                                 nn.MaxPool1d(kernel_size=2),\n",
    "                                 nn.Flatten())\n",
    "        \n",
    "        self.net2 = nn.Sequential(nn.Linear(32*25, 128),\n",
    "                                  nn.ReLU(),\n",
    "                                  nn.Linear(128, 3))\n",
    "    def forward(self, input_data):\n",
    "        x = self.net(input_data)\n",
    "        x = self.net2(x)\n",
    "        return x        "
   ]
  },
  {
   "cell_type": "code",
   "execution_count": null,
   "metadata": {},
   "outputs": [],
   "source": [
    "class CNN(nn.Module):\n",
    "    def __init__(self):\n",
    "        super(CNN, self).__init__()\n",
    "        \n",
    "        self.conv1 = nn.Conv1d(1, 16, kernel_size=5, stride=1, padding=2)\n",
    "        self.bn1 = nn.BatchNorm1d(16)\n",
    "        self.relu1 = nn.Sigmoid()\n",
    "        self.pool1 = nn.MaxPool1d(kernel_size=2, stride=2)\n",
    "        \n",
    "        self.conv2 = nn.Conv1d(16, 32, kernel_size=5, stride=1, padding=2)\n",
    "        self.bn2 = nn.BatchNorm1d(32)\n",
    "        self.relu2 = nn.Sigmoid()\n",
    "        self.pool2 = nn.MaxPool1d(kernel_size=2, stride=2)\n",
    "        \n",
    "        self.conv3 = nn.Conv1d(32, 64, kernel_size=5, stride=1, padding=2)\n",
    "        self.bn3 = nn.BatchNorm1d(64)\n",
    "        self.relu3 = nn.ReLU()\n",
    "        self.pool3 = nn.MaxPool1d(kernel_size=2, stride=2)\n",
    "        \n",
    "        self.fc1 = nn.Linear(64*12, 128)\n",
    "        self.relu4 = nn.ReLU()\n",
    "        self.dropout = nn.Dropout(0.5)\n",
    "        self.fc2 = nn.Linear(128, 3)\n",
    "        \n",
    "    def forward(self, x):\n",
    "        x = self.conv1(x)\n",
    "        x = self.bn1(x)\n",
    "        x = self.relu1(x)\n",
    "        x = self.pool1(x)\n",
    "        \n",
    "        x = self.conv2(x)\n",
    "        x = self.bn2(x)\n",
    "        x = self.relu2(x)\n",
    "        x = self.pool2(x)\n",
    "        \n",
    "        x = self.conv3(x)\n",
    "        x = self.bn3(x)\n",
    "        x = self.relu3(x)\n",
    "        x = self.pool3(x)\n",
    "        \n",
    "        x = x.view(x.size(0), -1)\n",
    "        x = self.fc1(x)\n",
    "        x = self.relu4(x)\n",
    "        x = self.dropout(x)\n",
    "        x = self.fc2(x)\n",
    "        \n",
    "        return x"
   ]
  },
  {
   "cell_type": "code",
   "execution_count": null,
   "metadata": {},
   "outputs": [],
   "source": [
    "def train(model, train_loader, optimizer, criterion, device):\n",
    "    model.train()\n",
    "    running_loss = 0.0\n",
    "    Loss_list = []\n",
    "    for epoch in range(100):\n",
    "        for i, (inputs, labels) in enumerate(train_loader):\n",
    "            inputs = inputs.to(device)\n",
    "            labels = labels.to(device)\n",
    "            optimizer.zero_grad()\n",
    "            outputs = model(inputs)\n",
    "            loss = criterion(outputs, labels)\n",
    "            loss.backward()\n",
    "            optimizer.step()\n",
    "            running_loss += loss.item()\n",
    "        Loss_list.append(running_loss/ (len(train_loader)))\n",
    "        \n",
    "    train_loss = running_loss / len(train_loader)\n",
    "    return train_loss\n"
   ]
  },
  {
   "cell_type": "code",
   "execution_count": null,
   "metadata": {},
   "outputs": [],
   "source": [
    "def test(model, test_loader, criterion, device):\n",
    "    model.eval()\n",
    "    test_loss = 0.0\n",
    "    correct = 0\n",
    "    total = 0\n",
    "    y_true = []\n",
    "    y_pred = []\n",
    "    with torch.no_grad():\n",
    "        for i, (inputs, labels) in enumerate(test_loader):\n",
    "            inputs = inputs.to(device)\n",
    "            labels = labels.to(device)\n",
    "            outputs = model(inputs)\n",
    "            loss = criterion(outputs, labels)\n",
    "            test_loss += loss.item()\n",
    "            _, predicted = torch.max(outputs.data, 1)\n",
    "            total += labels.size(0)\n",
    "            correct += (predicted == labels).sum().item()\n",
    "            y_true += labels.tolist()\n",
    "            y_pred += predicted.tolist()\n",
    "    test_loss /= len(test_loader)\n",
    "    accuracy = 100.0 * correct / total\n",
    "    return test_loss, accuracy, y_true, y_pred\n"
   ]
  },
  {
   "cell_type": "code",
   "execution_count": null,
   "metadata": {},
   "outputs": [],
   "source": [
    "# Load data\n",
    "train_data =  data_set.state_normal.reshape(-1,1,100)\n",
    "train_labels = data_set.action.reshape(-1)\n",
    "test_data = data_set.test_data_normal.reshape(-1,1,100)\n",
    "test_labels = data_set.test_label.reshape(-1)\n",
    "\n",
    "# Create data loaders\n",
    "train_dataset = torch.utils.data.TensorDataset(train_data, train_labels)\n",
    "train_loader = torch.utils.data.DataLoader(train_dataset, batch_size=32, shuffle=True)\n",
    "test_dataset = torch.utils.data.TensorDataset(test_data, test_labels)\n",
    "test_loader = torch.utils.data.DataLoader(test_dataset, batch_size=32, shuffle=False)\n",
    "\n",
    "# Define hyperparameters\n",
    "learning_rate = 0.02\n",
    "num_epochs = 100\n",
    "\n",
    "# Initialize model and loss function\n",
    "device = torch.device(\"cuda\" if torch.cuda.is_available() else \"cpu\")\n",
    "criterion = nn.CrossEntropyLoss()\n",
    "optimizer = optim.Adam(CNN().parameters(), lr=learning_rate)\n"
   ]
  },
  {
   "cell_type": "code",
   "execution_count": null,
   "metadata": {},
   "outputs": [],
   "source": [
    "model=CNN()\n",
    "model.cuda()\n",
    "train(model,train_loader,optimizer,criterion,device)"
   ]
  },
  {
   "cell_type": "code",
   "execution_count": null,
   "metadata": {},
   "outputs": [],
   "source": []
  }
 ],
 "metadata": {
  "kernelspec": {
   "display_name": "d2l",
   "language": "python",
   "name": "python3"
  },
  "language_info": {
   "codemirror_mode": {
    "name": "ipython",
    "version": 3
   },
   "file_extension": ".py",
   "mimetype": "text/x-python",
   "name": "python",
   "nbconvert_exporter": "python",
   "pygments_lexer": "ipython3",
   "version": "3.8.15"
  },
  "orig_nbformat": 4,
  "vscode": {
   "interpreter": {
    "hash": "78c511afff7e8bd9c13bbc67f2def61fc6f4a7426de9af24da44865c0bdc87c0"
   }
  }
 },
 "nbformat": 4,
 "nbformat_minor": 2
}
